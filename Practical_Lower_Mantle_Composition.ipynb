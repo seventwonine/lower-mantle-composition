{
 "cells": [
  {
   "cell_type": "markdown",
   "metadata": {},
   "source": [
    "# Lower Mantle Composition using BurnMan"
   ]
  },
  {
   "cell_type": "markdown",
   "metadata": {},
   "source": [
    "\n",
    "Global geophysicists have an ongoing discussion on the degree of whole-mantle convection versus the degree of two-layered convection. There is good certainty that in the present day there is exchange of material between the upper and lower mantle in the form of downgoing slabs and upgoing mantle plumes. The question remains if this has always been the case and if this exchange has been sufficient to create a well-mixed mantle. One way to assess this is to test if the upper and lower mantles have similar compositions. For the upper mantle we have more direct samples from volcanoes. For the lower mantle we can attempt to determine the composition based on seismic velocity models. \n",
    "\n",
    "[BurnMan](https://geodynamics.github.io/burnman/) is an open source Python toolkit that computes the thermo-elastic properties using an equation-of-state for composites at high pressures and temperatures. The equation-of-state parameters come from databases compiled from many experiments of minerals under high-(P,T) conditions. The code provides the tools to directly compare the computed velocities to seismically observed ones.\n",
    "To read more background on BurnMan and the fitting of lower mantle compositions, see:\n",
    "\n",
    "Cottaar, S, T Heister, I Rose, and C Unterborn. 2014. “BurnMan–a Lower Mantle Mineral Physics Toolkit.” Geochem. Geophys. Geosyst. 15 (4): 1164–79.\n",
    "\n"
   ]
  },
  {
   "cell_type": "markdown",
   "metadata": {},
   "source": [
    "### Step 0. Import modules"
   ]
  },
  {
   "cell_type": "markdown",
   "metadata": {},
   "source": [
    "Import of relevant modules. Only need to run this step once."
   ]
  },
  {
   "cell_type": "code",
   "execution_count": null,
   "metadata": {},
   "outputs": [],
   "source": [
    "%matplotlib inline\n",
    "import os, sys, numpy as np, matplotlib.pyplot as plt # General libraries\n",
    "from matplotlib import cm  # Library used for colormap\n",
    "from collections import OrderedDict\n",
    "\n",
    "# Import BurnMan to compute velocities for a given composition\n",
    "if '../burnman_v1.0.1' not in sys.path:\n",
    "    sys.path.insert(0,'../burnman_v1.0.1')\n",
    "import burnman\n",
    "from burnman import minerals"
   ]
  },
  {
   "cell_type": "markdown",
   "metadata": {},
   "source": [
    "### Step 1. Exploring 1D models\n",
    "\n",
    "The code below plots the lower mantle Vs, Vp and density for three different 1D models. \n",
    "\n",
    "a.\tWhat are these models based on?\n",
    "\n",
    "\n",
    "b.\tWhy might 1D Earth models not be a good reflection of the composition in the lower mantle?\n",
    "\n"
   ]
  },
  {
   "cell_type": "code",
   "execution_count": null,
   "metadata": {},
   "outputs": [],
   "source": [
    "# List of seismic 1D models\n",
    "seismic_models = [\n",
    "        burnman.seismic.PREM(),\n",
    "        burnman.seismic.STW105(),\n",
    "        burnman.seismic.AK135()]\n",
    "colors = ['r', 'b', 'm', 'k']\n",
    "\n",
    "# initiate figure and subplots\n",
    "fig = plt.figure(figsize=(14, 5))\n",
    "ax = [fig.add_subplot(1, 3, i) for i in range(1, 4)]\n",
    "    \n",
    "# Run through models and variables\n",
    "for m in range(len(seismic_models)):\n",
    "        # get depths at which the model is defined\n",
    "        depths_seis = seismic_models[m].internal_depth_list(\n",
    "            mindepth=0, maxdepth=6371e3)\n",
    "        Vp, Vs, rho = seismic_models[m].evaluate(\n",
    "            ['v_p', 'v_s', 'density'], depths_seis)\n",
    "\n",
    "        # PLOTTING the results. While all parameters from BurnMan are given in\n",
    "        # SI units (e.g. m/s for velocity), they are here converted to other\n",
    "        # units for plotting purposes.\n",
    "        ax[0].plot(depths_seis / 1.e3, Vp / 1.e3, color=colors[m], linestyle='-')\n",
    "        ax[1].plot(depths_seis / 1.e3, Vs / 1.e3, color=colors[m], linestyle='-')\n",
    "        ax[2].plot(\n",
    "            depths_seis / 1.e3,\n",
    "            rho / 1.e3,\n",
    "            color=colors[m],\n",
    "            linestyle='-',\n",
    "            label=seismic_models[m].__class__.__name__)\n",
    "\n",
    "# Beautify plots. The values are bounded to only show the lower mantle,\n",
    "# but feel free to play around with this to see the rest of the planet.\n",
    "ax[0].set_xlabel('depth in km')\n",
    "ax[0].set_ylabel('Vp in km/s')\n",
    "ax[0].set_xlim([750., 2700.])\n",
    "ax[0].set_ylim([10.5, 14.])\n",
    "ax[1].set_xlabel('depth in km')\n",
    "ax[1].set_ylabel('Vs in km/s')\n",
    "ax[1].set_xlim([750., 2700.])\n",
    "ax[1].set_ylim([6., 7.5])\n",
    "ax[2].set_xlabel('depth in km')\n",
    "ax[2].set_ylabel('density in kg/m^3 ')\n",
    "ax[2].set_xlim([750., 2700.])\n",
    "ax[2].set_ylim([4., 5.5])\n",
    "ax[2].legend(loc=2, borderaxespad=0.)\n"
   ]
  },
  {
   "cell_type": "markdown",
   "metadata": {},
   "source": [
    "### Step 2. Fitting 1D models\n",
    "\n",
    "We will now test two different compositional models for the lower mantle. The pyrolitic model represents a composition similar to the upper mantle (ignoring Al and other minor components):\n",
    "\n",
    "-\tPyrolitic model\n",
    "    - 75% perovskite or bridgemanite (Mg, Fe)SiO3 with 94% Mg and 6% Fe\n",
    "    - 18% ferropericlase (Mg,Fe)O with 80% Mg and 20%Fe\n",
    "    - 7% Ca-perovskite CaSiO3\n",
    "\n",
    "The chondritic model is a competing model that suggests the composition the lower mantle should have if composition of the bulk Earth is represented by chondritic meteorites. In this case the lower mantle is enriched in Si relative to the upper mantle.\n",
    "\n",
    "-\tChondritic model\n",
    "    - 88% perovskite or bridgemanite (Mg, Fe)SiO3 with 94% Mg and 6% Fe\n",
    "    - 5% ferropericlase (Mg,Fe)O with 80% Mg and 20%Fe\n",
    "    - 7% Ca-perovskite CaSiO3\n",
    "\n",
    "To model these compositions, we are using the mineral database published in Stixrude and Lithgow-Bertelloni (2011). \n",
    "\n",
    "Run through the scripts as part of step 2 below. \n",
    "\n",
    "c.\tWhich model best fits the seismically observed velocities and density best? \n",
    "\n",
    "d.\tUncomment the plotting commands at the end of 2.7. Now a rock called 'your_mantle' is also plotted. It is currently set to a pyrolitic composition, but you can change this rock a couple code cells above. Vary the ratio of perovskite to periclase, or the Mg/Fe ratio in the minerals.  You can also change the temperature at the top of the mantle. NOTE: with each change you have to rerun the cell blocks (also the block that recomputes the velocities). With what composition can you improve the fit to radial velocities and density? You will find it is challenging to fit all three at once. Don't worry if you do not find a perfect solution!\n"
   ]
  },
  {
   "cell_type": "markdown",
   "metadata": {},
   "source": [
    "#### 2.1 Define depth and pressure arrays"
   ]
  },
  {
   "cell_type": "code",
   "execution_count": null,
   "metadata": {},
   "outputs": [],
   "source": [
    "# 20 points within the lower mantle\n",
    "depths = np.linspace(750e3, 2700e3, 20)\n",
    "# convert depth to pressure using PREM\n",
    "[pressures] = seismic_models[0].evaluate(['pressure'], depths)"
   ]
  },
  {
   "cell_type": "markdown",
   "metadata": {},
   "source": [
    "##### 2.2 Predefine solid solutions and mineral used"
   ]
  },
  {
   "cell_type": "code",
   "execution_count": null,
   "metadata": {},
   "outputs": [],
   "source": [
    "# Perovksite solid solution\n",
    "frac_mg = 0.94\n",
    "frac_fe = 0.06\n",
    "frac_al = 0.00\n",
    "mg_fe_perovskite = minerals.SLB_2011.mg_fe_perovskite()\n",
    "mg_fe_perovskite.set_composition([frac_mg, frac_fe, frac_al])\n",
    "\n",
    "# Ferropericlase solid solution\n",
    "frac_mg = 0.8\n",
    "frac_fe = 0.2\n",
    "mg_fe_periclase = minerals.SLB_2011.ferropericlase()\n",
    "mg_fe_periclase.set_composition([frac_mg,frac_fe])\n",
    "    \n",
    "# Ca Perovskite\n",
    "ca_perovskite = minerals.SLB_2011.ca_perovskite()"
   ]
  },
  {
   "cell_type": "markdown",
   "metadata": {},
   "source": [
    "##### 2.3 Build pyrolitic and chondritic compositions"
   ]
  },
  {
   "cell_type": "code",
   "execution_count": null,
   "metadata": {},
   "outputs": [],
   "source": [
    "# Pyrolitic composition\n",
    "pyr_pv = 0.75\n",
    "pyr_fp = 0.18\n",
    "pyr_capv = 0.07\n",
    "pyrolitic_mantle = burnman.Composite(\n",
    "        [mg_fe_perovskite, mg_fe_periclase, ca_perovskite], [pyr_pv, pyr_fp, pyr_capv], name = 'Pyrolitic')\n",
    "\n",
    "\n",
    "# Chondritic composition\n",
    "chon_pv = 0.88\n",
    "chon_fp = 0.05\n",
    "chon_capv = 0.07\n",
    "chondritic_mantle = burnman.Composite(\n",
    "        [mg_fe_perovskite, mg_fe_periclase, ca_perovskite], [chon_pv, chon_fp, chon_capv], name = 'Chondritic')\n",
    " "
   ]
  },
  {
   "cell_type": "markdown",
   "metadata": {},
   "source": [
    "##### 2.4 Build your own composition\n",
    "You will modify this later."
   ]
  },
  {
   "cell_type": "code",
   "execution_count": null,
   "metadata": {},
   "outputs": [],
   "source": [
    "# Perovksite solid solution, here you can set the iron and aluminium content\n",
    "frac_mg = 0.94\n",
    "frac_fe = 0.06\n",
    "frac_al = 0.00\n",
    "mg_fe_perovskite = minerals.SLB_2011.mg_fe_perovskite()\n",
    "mg_fe_perovskite.set_composition([frac_mg, frac_fe, frac_al])\n",
    "    \n",
    "# Ferropericlase solid solution, here you can set the iron content\n",
    "frac_mg = 0.8\n",
    "frac_fe = 0.2\n",
    "mg_fe_periclase = minerals.SLB_2011.ferropericlase()\n",
    "mg_fe_periclase.set_composition([frac_mg,frac_fe])\n",
    "    \n",
    "# Ca Perovskite\n",
    "ca_perovskite = minerals.SLB_2011.ca_perovskite()\n",
    "\n",
    "# Here you can set the relative ratios\n",
    "pyr_pv = 0.75\n",
    "pyr_fp = 0.18\n",
    "pyr_capv = 0.07\n",
    "your_mantle = burnman.Composite([mg_fe_perovskite, mg_fe_periclase, ca_perovskite], [pyr_pv, pyr_fp, pyr_capv], name = 'Your Mantle')"
   ]
  },
  {
   "cell_type": "markdown",
   "metadata": {},
   "source": [
    "##### 2.5 Compute adiabatic temperatures"
   ]
  },
  {
   "cell_type": "code",
   "execution_count": null,
   "metadata": {},
   "outputs": [],
   "source": [
    "# To use an adiabatic temperature profile, one needs to pin the temperature at the top of the lower mantle\n",
    "T0 = 1900 #K\n",
    "# To simplify we only compute temperatures for one composition\n",
    "temperatures = burnman.geotherm.adiabatic(pressures, T0, pyrolitic_mantle)"
   ]
  },
  {
   "cell_type": "code",
   "execution_count": null,
   "metadata": {},
   "outputs": [],
   "source": [
    "# plot temperature\n",
    "plt.plot(pressures/1.e9,temperatures,'r')\n",
    "plt.xlim(min(pressures)/1.e9,max(pressures)/1.e9)\n",
    "plt.xlabel('pressure (GPa)')\n",
    "plt.ylabel('temperature (K)')\n"
   ]
  },
  {
   "cell_type": "markdown",
   "metadata": {},
   "source": [
    "#### 2.6 Calculate velocities"
   ]
  },
  {
   "cell_type": "markdown",
   "metadata": {},
   "source": [
    "    \n",
    "Here is the step which does the heavy lifting.  burnman.velocities_from_rock sets the state of the rock at each of the pressures and temperatures defined,then calculates the elastic moduli and density of each individual phase.  After that,it performs elastic averaging on the phases to get a single bulk and shear\n",
    "modulus for the rock. Finally, it calculates the seismic\n",
    "wave speeds for the whole rock.  It returns a tuple of density, p-wave velocity\n",
    "s-wave velocity, bulk sound speed, bulk modulus, and shear modulus."
   ]
  },
  {
   "cell_type": "code",
   "execution_count": null,
   "metadata": {},
   "outputs": [],
   "source": [
    "print(\"Calculations are done for:\")\n",
    "pyrolitic_mantle.debug_print()\n",
    "pyrolitic_vp, pyrolitic_vs, pyrolitic_rho = pyrolitic_mantle.evaluate(\n",
    "        ['v_p', 'v_s', 'density'], pressures, temperatures)\n",
    "print(\"Calculations are done for:\")\n",
    "chondritic_mantle.debug_print()\n",
    "chondritic_vp, chondritic_vs, chondritic_rho = chondritic_mantle.evaluate(\n",
    "        ['v_p', 'v_s', 'density'], pressures, temperatures)\n",
    "print(\"Calculations are done for:\")\n",
    "your_mantle.debug_print()\n",
    "yourmantle_vp, yourmantle_vs, yourmantle_rho = your_mantle.evaluate(\n",
    "        ['v_p', 'v_s', 'density'], pressures, temperatures)"
   ]
  },
  {
   "cell_type": "markdown",
   "metadata": {},
   "source": [
    "#### 2.7 Plot results"
   ]
  },
  {
   "cell_type": "markdown",
   "metadata": {},
   "source": [
    "All the work is done except the plotting!  Here we want to plot the seismic wave\n",
    "speeds and the density against PREM using the matplotlib plotting tools. \n",
    "First we plot the results with pressure and then convert to depths to plot with depth."
   ]
  },
  {
   "cell_type": "code",
   "execution_count": null,
   "metadata": {},
   "outputs": [],
   "source": [
    "\n",
    "# plot vp\n",
    "\n",
    "ax[0].plot(depths / 1.e3, pyrolitic_vp / 1.e3, color='g', linestyle='-', marker='o',\n",
    "             markerfacecolor='g', markersize=4, label='pyrolitic mantle')\n",
    "ax[0].plot(depths / 1.e3, chondritic_vp / 1.e3, color='y', linestyle='-', marker='o',\n",
    "             markerfacecolor='y', markersize=4, label='chondritic mantle')\n",
    "ax[0].legend(loc='lower right')\n",
    "ax[0].set_xlabel('depth(km)')\n",
    "ax[0].set_title('P wave velocities ($km/s$)')\n",
    "\n",
    "# plot Vs\n",
    "ax[1].plot(depths / 1.e3, pyrolitic_vs / 1.e3, color='g', linestyle='-', marker='o',\n",
    "             markerfacecolor='g', markersize=4)\n",
    "ax[1].plot(depths / 1.e3, chondritic_vs / 1.e3, color='y', linestyle='-', marker='o',\n",
    "             markerfacecolor='y', markersize=4)\n",
    "ax[1].set_xlabel('depth(km)')\n",
    "ax[1].set_title('S wave velocities ($km/s$)')\n",
    "\n",
    "# plot density\n",
    "\n",
    "ax[2].plot(depths / 1.e3, pyrolitic_rho / 1.e3, color='g', linestyle='-', marker='o',\n",
    "             markerfacecolor='g', markersize=4)\n",
    "ax[2].plot(depths / 1.e3, chondritic_rho / 1.e3, color='y', linestyle='-', marker='o',\n",
    "             markerfacecolor='y', markersize=4)\n",
    "ax[2].set_xlabel('depth(km)')\n",
    "ax[2].set_title('densities ($g/cm^3$)')\n",
    "\n",
    "'''\n",
    "# plot your mantle\n",
    "ax[0].plot(depths / 1.e3, yourmantle_vp / 1.e3, color='c', linestyle='-', marker='o',\n",
    "                      markerfacecolor='c', markersize=4, label='your mantle')\n",
    "plt.legend(loc='lower right')\n",
    "\n",
    "ax[1].plot(depths / 1.e3, yourmantle_vs / 1.e3, color='c', linestyle='-', marker='o',\n",
    "                      markerfacecolor='c', markersize=4)\n",
    "           \n",
    "ax[2].plot(depths / 1.e3,  yourmantle_rho / 1.e3, color='y', linestyle='-', marker='o',\n",
    "            markerfacecolor='c', markersize=4)\n",
    "'''\n",
    "fig"
   ]
  },
  {
   "cell_type": "markdown",
   "metadata": {},
   "source": [
    "### Step 3. Explore 3D velocities\n",
    "\n",
    "Another main discussion in the lower mantle is if lateral velocity variations can be explained by temperature alone, or if there are also compositional variations. \n",
    "\n",
    "Running step 3 plots ~ 1000 equally spaced radial profiles from a 3D tomographic model (French & Romanowicz 2015) for shear velocity deviation. This gives a sense of the variation in shear velocity seen in the lower mantle (with respect to a 1D average). \n",
    "\n",
    "e.\tHow strong are the velocity variations across most of the lower mantle? How about at the bottom of the mantle?\n",
    "\n",
    "\n",
    "f.\tWhat reasons cause tomographic models to underestimate the amplitudes of the velocity variation? For these reasons we will look at the extreme deviations mapped for our interpretation.\n",
    "\n",
    "\n"
   ]
  },
  {
   "cell_type": "code",
   "execution_count": null,
   "metadata": {},
   "outputs": [],
   "source": [
    "# Initialize plot\n",
    "# load 3D seismic model into dictionary\n",
    "# This model contains ~10000 equally spaced profiles of shear wave velocity for the\n",
    "# model of French and Romanowicz(2015) filtered up to spherical harmonic degree 18.\n",
    "seis3D =np.load('SEMUCBWM1_Lmax18.npy',encoding='latin1', allow_pickle=True).item()\n",
    "figs = [plt.figure( figsize = (15,8)) for f in range(2)]\n",
    "axes = [figs[f].add_subplot(1,1, 1) for f in range(2)]\n",
    "for f in range(2):\n",
    "\n",
    "    # plots every 10th profile in grey\n",
    "    for prof in range(0,len(seis3D['lons']),10):\n",
    "        axes[f].plot(seis3D['depths']/1.e3,seis3D['dVs'][:,prof],'k',alpha=0.02)\n",
    "\n",
    "    # Plot min and max values in black\n",
    "    axes[f].plot(seis3D['depths']/1.e3,np.max(seis3D['dVs'],axis=1),'k')\n",
    "    axes[f].plot(seis3D['depths']/1.e3,np.min(seis3D['dVs'],axis=1),'k')\n",
    "    axes[f].set_xlim([660.,2891.])\n",
    "    axes[f].set_xlabel('depth ($km$)')\n",
    "    axes[f].set_ylabel('dVs/Vs')\n",
    "\n",
    "# This plot will show up twice for later purposes"
   ]
  },
  {
   "cell_type": "markdown",
   "metadata": {},
   "source": [
    "### Step 4. Temperature vs. Compositional variations\n",
    "\n",
    "Next we will explore the relative velocity variations caused by temperature versus compositional variations (in this case only iron content). A pyrolitic model (with 8% iron content) is used as the reference velocity). Run step 4 and look at the models as function of iron content and temperature. \n",
    "g.\tWhat happens to the sensitivity of shear wave velocity to temperature and compositional variations with depth? Why might this be?\n",
    "\n",
    "\n",
    "\n",
    "h.\tHow much temperature variation is needed to explain velocity variations at the top of the mantle? How about iron content? How about at the bottom of the mantle?\n",
    "\n",
    "\n",
    "\n",
    "\n",
    "i.\tIf temperature variations explained the velocity variations, what density deviations would be associated with the fast and slow velocities? What if the velocity variations where due to iron content? To answer this question, you might want modify the code to plot density deviation instead of velocity deviation.\n",
    "\n",
    "\n",
    "\n",
    "j. \tAt the very base of the mantle, ultra-low velocity zones are observed using high-frequency body waves. These zones have shear wave velocity reductions up to 30%. Can iron enrichment alone explain such a velocity reduction? What other factors should/could play a role?  \n",
    "\n",
    "\n",
    "\n",
    "\n",
    "#### 4.1 Compute velocities reference composition"
   ]
  },
  {
   "cell_type": "code",
   "execution_count": null,
   "metadata": {},
   "outputs": [],
   "source": [
    "# Perovksite solid solution\n",
    "frac_mg = 0.94\n",
    "frac_fe = 0.06\n",
    "frac_al = 0.00\n",
    "mg_fe_perovskite = minerals.SLB_2011.mg_fe_perovskite()\n",
    "mg_fe_perovskite.set_composition([frac_mg, frac_fe, frac_al])\n",
    "\n",
    "# ferropericlase solid solution\n",
    "frac_mg = 0.8\n",
    "frac_fe = 0.2\n",
    "mg_fe_periclase = minerals.SLB_2011.ferropericlase()\n",
    "mg_fe_periclase.set_composition([frac_mg,frac_fe])\n",
    "\n",
    "# Ca Perovsktie\n",
    "ca_perovskite = minerals.SLB_2011.ca_perovskite()\n",
    "\n",
    "# Pyrolitic composition\n",
    "pyr_pv = 0.75\n",
    "pyr_fp = 0.18\n",
    "pyr_capv = 0.07\n",
    "pyrolitic_mantle = burnman.Composite([mg_fe_perovskite, mg_fe_periclase, ca_perovskite], [pyr_pv, pyr_fp, pyr_capv])\n",
    "    \n",
    "# To use an adiabatic temperature profile, one needs to pin the temperature at the top of the lower mantle\n",
    "T0 = 1900 #K\n",
    "temperatures = burnman.geotherm.adiabatic(pressures, T0, pyrolitic_mantle)\n",
    " \n",
    "print(\"Calculations are done for:\")\n",
    "pyrolitic_mantle .debug_print()\n",
    " \n",
    "reference_vp, reference_vs, reference_rho = pyrolitic_mantle.evaluate(['v_p', 'v_s', 'density'], pressures, temperatures)"
   ]
  },
  {
   "cell_type": "markdown",
   "metadata": {},
   "source": [
    "#### 4.2 Compute variation with temperature"
   ]
  },
  {
   "cell_type": "code",
   "execution_count": null,
   "metadata": {},
   "outputs": [],
   "source": [
    "\n",
    "deltaT = np.arange(-350.,350.01,100.) # Range of temperature deviations to test np.arange(start, stop, step)\n",
    "colorsT = [ cm.coolwarm(x) for x in np.linspace(0.,1.,len(deltaT)) ] # Color scale for resutls\n",
    "\n",
    " \n",
    "for i, dT in enumerate(deltaT):\n",
    "    T0 = 1900+dT # Deviate temperature\n",
    "    temperatures = burnman.geotherm.adiabatic(pressures, T0, pyrolitic_mantle)\n",
    "    \n",
    "    print(\"Calculations are done for:\", dT, \" K\")\n",
    "\n",
    "    \n",
    "    # Recompute velocities for new temperature\n",
    "    mod_vp, mod_vs, mod_rho = pyrolitic_mantle.evaluate(['v_p', 'v_s', 'density'], pressures, temperatures)\n",
    "    \n",
    "    # Compute differential velocity to reference\n",
    "    dlnVs = (mod_vs-reference_vs)/ reference_vs\n",
    "    # Plot results on top of the 3D variations plot\n",
    "    axes[0].plot(depths/1.e3, dlnVs, color=colorsT[i], linewidth =2, label = str(dT) + ' K')\n",
    "axes[0].set_xlabel('depth (km)')\n",
    "axes[0].set_ylabel('dVs/Vs')\n",
    "axes[0].set_ylim([-0.04,0.04])\n",
    "\n",
    "#Plot legend\n",
    "handles, labels = axes[0].get_legend_handles_labels()\n",
    "by_label = OrderedDict(zip(labels, handles))\n",
    "# Put legend to the right of the plot\n",
    "axes[0].legend(by_label.values(), by_label.keys(),loc='center left', bbox_to_anchor=(1, 0.5))\n",
    "figs[0]"
   ]
  },
  {
   "cell_type": "markdown",
   "metadata": {},
   "source": [
    "#### 4.2 Compute variation in iron content"
   ]
  },
  {
   "cell_type": "code",
   "execution_count": null,
   "metadata": {},
   "outputs": [],
   "source": [
    "rangeFe = np.arange(0,0.31,.05)\n",
    "colorsFe = [ cm.copper_r(x) for x in np.linspace(0.,1.,len(rangeFe)) ] # using the reversed copper scale\n",
    "\n",
    "for i, dFe in enumerate(rangeFe):\n",
    "    print(dFe)\n",
    "    frac_pv =0.75\n",
    "    frac_fp = 0.18\n",
    "    # very simplified Fe partitioning between Perovskite and Ferropericlase. \n",
    "    dFepv = dFe\n",
    "    dFefp = dFe\n",
    "    print(dFe)\n",
    "    # Perovksite solid solution\n",
    "    frac_mg = 1.0 - dFepv\n",
    "    frac_fe = dFepv\n",
    "    frac_al = 0.00\n",
    "    mg_fe_perovskite = minerals.SLB_2011.mg_fe_perovskite()\n",
    "    mg_fe_perovskite.set_composition([frac_mg, frac_fe, frac_al])\n",
    "    \n",
    "    # ferropericlase solid solution\n",
    "    frac_mg = 1.0 - dFefp\n",
    "    frac_fe = dFefp\n",
    "    mg_fe_periclase = minerals.SLB_2011.ferropericlase()\n",
    "    mg_fe_periclase.set_composition([frac_mg,frac_fe])\n",
    "    \n",
    "    # Ca Perovskite\n",
    "    ca_perovskite = minerals.SLB_2011.ca_perovskite()\n",
    "    \n",
    "    # Pyrolitic composition\n",
    "    pyr_pv = frac_pv\n",
    "    pyr_fp = frac_fp\n",
    "    pyr_capv = 1.-frac_pv-frac_fp\n",
    "    pyrolitic_mantle_fe = burnman.Composite([mg_fe_perovskite, mg_fe_periclase, ca_perovskite], [pyr_pv, pyr_fp, pyr_capv])\n",
    "    T0 = 1900 #K\n",
    "    temperatures = burnman.geotherm.adiabatic(pressures, T0, pyrolitic_mantle_fe)\n",
    "    \n",
    "    print(\"Calculations are done for iron fraction of \", dFe)\n",
    "\n",
    "    \n",
    "    mod_vp, mod_vs, mod_rho = pyrolitic_mantle_fe.evaluate(['v_p', 'v_s', 'density'], pressures, temperatures)\n",
    "\n",
    "    # Compute differential velcoity to reference\n",
    "    dlnVs = (mod_vs -reference_vs)/ reference_vs\n",
    "\n",
    "\n",
    "    # Plot results\n",
    "    axes[1].plot(depths/1.e3, dlnVs, color = colorsFe[i], linewidth =2, linestyle = '--', label = str(dFe) + ' % dFe ')\n",
    "axes[1].set_xlabel('depth (km)')\n",
    "axes[1].set_ylabel('dVs/Vs')\n",
    "axes[1].set_ylim([-0.14,0.14])\n",
    "\n",
    "#Plot legend\n",
    "handles, labels = axes[1].get_legend_handles_labels()\n",
    "by_label = OrderedDict(zip(labels, handles))\n",
    "# Put legend to the right of the plot\n",
    "axes[1].legend(by_label.values(), by_label.keys(),loc='center left', bbox_to_anchor=(1, 0.5))\n",
    "figs[1]"
   ]
  },
  {
   "cell_type": "code",
   "execution_count": null,
   "metadata": {},
   "outputs": [],
   "source": []
  },
  {
   "cell_type": "code",
   "execution_count": null,
   "metadata": {},
   "outputs": [],
   "source": []
  }
 ],
 "metadata": {
  "kernelspec": {
   "display_name": "Python 3 (ipykernel)",
   "language": "python",
   "name": "python3"
  },
  "language_info": {
   "codemirror_mode": {
    "name": "ipython",
    "version": 3
   },
   "file_extension": ".py",
   "mimetype": "text/x-python",
   "name": "python",
   "nbconvert_exporter": "python",
   "pygments_lexer": "ipython3",
   "version": "3.8.12"
  }
 },
 "nbformat": 4,
 "nbformat_minor": 1
}
